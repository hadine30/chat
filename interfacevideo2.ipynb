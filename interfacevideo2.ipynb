{
  "nbformat": 4,
  "nbformat_minor": 0,
  "metadata": {
    "colab": {
      "name": "interfacevideo2.ipynb",
      "provenance": [],
      "collapsed_sections": [],
      "authorship_tag": "ABX9TyNuatmY3Zy49V9G9FKUtM1/",
      "include_colab_link": true
    },
    "kernelspec": {
      "name": "python3",
      "display_name": "Python 3"
    }
  },
  "cells": [
    {
      "cell_type": "markdown",
      "metadata": {
        "id": "view-in-github",
        "colab_type": "text"
      },
      "source": [
        "<a href=\"https://colab.research.google.com/github/hadine30/chat/blob/master/interfacevideo2.ipynb\" target=\"_parent\"><img src=\"https://colab.research.google.com/assets/colab-badge.svg\" alt=\"Open In Colab\"/></a>"
      ]
    },
    {
      "cell_type": "code",
      "metadata": {
        "id": "x3JA0KRbk9h6",
        "colab_type": "code",
        "colab": {
          "base_uri": "https://localhost:8080/",
          "height": 1000
        },
        "outputId": "be878a7c-1d45-4007-993c-0faafecf5689"
      },
      "source": [
        "!pip install dash_uploader"
      ],
      "execution_count": 1,
      "outputs": [
        {
          "output_type": "stream",
          "text": [
            "Collecting dash_uploader\n",
            "\u001b[?25l  Downloading https://files.pythonhosted.org/packages/18/58/6b51ad5f76380804afff60bfedde5852deab0a5ea1156f35a86a2a4eaf0f/dash_uploader-0.3.0.tar.gz (63kB)\n",
            "\u001b[K     |████████████████████████████████| 71kB 2.0MB/s \n",
            "\u001b[?25hCollecting dash>=1.1.0\n",
            "\u001b[?25l  Downloading https://files.pythonhosted.org/packages/1d/d1/191ad32bd9e6d10b2fc0f5d31e9e6a85fdb2642088658f75817d67bdeaea/dash-1.14.0.tar.gz (70kB)\n",
            "\u001b[K     |████████████████████████████████| 71kB 3.6MB/s \n",
            "\u001b[?25hRequirement already satisfied: Flask>=1.0.2 in /usr/local/lib/python3.6/dist-packages (from dash>=1.1.0->dash_uploader) (1.1.2)\n",
            "Collecting flask-compress\n",
            "  Downloading https://files.pythonhosted.org/packages/a0/96/cd684c1ffe97b513303b5bfd4bbfb4114c5f4a5ea8a737af6fd813273df8/Flask-Compress-1.5.0.tar.gz\n",
            "Requirement already satisfied: plotly in /usr/local/lib/python3.6/dist-packages (from dash>=1.1.0->dash_uploader) (4.4.1)\n",
            "Collecting dash_renderer==1.6.0\n",
            "\u001b[?25l  Downloading https://files.pythonhosted.org/packages/da/a6/ddbcd01c638a2c235bfe13fd75155b344c7b7ab1c6466fe6d46b159897ad/dash_renderer-1.6.0.tar.gz (1.2MB)\n",
            "\u001b[K     |████████████████████████████████| 1.2MB 10.9MB/s \n",
            "\u001b[?25hCollecting dash-core-components==1.10.2\n",
            "\u001b[?25l  Downloading https://files.pythonhosted.org/packages/ee/74/f961bb01aa015b76c60045cf8ad5d9eb2279656f4483b42750ec3b925c9c/dash_core_components-1.10.2.tar.gz (3.4MB)\n",
            "\u001b[K     |████████████████████████████████| 3.4MB 16.6MB/s \n",
            "\u001b[?25hCollecting dash-html-components==1.0.3\n",
            "\u001b[?25l  Downloading https://files.pythonhosted.org/packages/da/20/46714ae501ccf16e5e37ca160c06e27347d19889687454168730e6744cdc/dash_html_components-1.0.3.tar.gz (187kB)\n",
            "\u001b[K     |████████████████████████████████| 194kB 38.0MB/s \n",
            "\u001b[?25hCollecting dash-table==4.9.0\n",
            "\u001b[?25l  Downloading https://files.pythonhosted.org/packages/54/9f/11347b397b840b67481f6ecadefb64de0b57d199752d5e182161a4217f1d/dash_table-4.9.0.tar.gz (1.8MB)\n",
            "\u001b[K     |████████████████████████████████| 1.8MB 41.0MB/s \n",
            "\u001b[?25hRequirement already satisfied: future in /usr/local/lib/python3.6/dist-packages (from dash>=1.1.0->dash_uploader) (0.16.0)\n",
            "Requirement already satisfied: itsdangerous>=0.24 in /usr/local/lib/python3.6/dist-packages (from Flask>=1.0.2->dash>=1.1.0->dash_uploader) (1.1.0)\n",
            "Requirement already satisfied: Werkzeug>=0.15 in /usr/local/lib/python3.6/dist-packages (from Flask>=1.0.2->dash>=1.1.0->dash_uploader) (1.0.1)\n",
            "Requirement already satisfied: Jinja2>=2.10.1 in /usr/local/lib/python3.6/dist-packages (from Flask>=1.0.2->dash>=1.1.0->dash_uploader) (2.11.2)\n",
            "Requirement already satisfied: click>=5.1 in /usr/local/lib/python3.6/dist-packages (from Flask>=1.0.2->dash>=1.1.0->dash_uploader) (7.1.2)\n",
            "Collecting brotli\n",
            "\u001b[?25l  Downloading https://files.pythonhosted.org/packages/f4/68/60a220454dc5083c6d59b41aa90bb1c96fad62a0abf3a33e0ef64b38638a/Brotli-1.0.7-cp36-cp36m-manylinux1_x86_64.whl (352kB)\n",
            "\u001b[K     |████████████████████████████████| 358kB 38.6MB/s \n",
            "\u001b[?25hRequirement already satisfied: six in /usr/local/lib/python3.6/dist-packages (from plotly->dash>=1.1.0->dash_uploader) (1.15.0)\n",
            "Requirement already satisfied: retrying>=1.3.3 in /usr/local/lib/python3.6/dist-packages (from plotly->dash>=1.1.0->dash_uploader) (1.3.3)\n",
            "Requirement already satisfied: MarkupSafe>=0.23 in /usr/local/lib/python3.6/dist-packages (from Jinja2>=2.10.1->Flask>=1.0.2->dash>=1.1.0->dash_uploader) (1.1.1)\n",
            "Building wheels for collected packages: dash-uploader, dash, flask-compress, dash-renderer, dash-core-components, dash-html-components, dash-table\n",
            "  Building wheel for dash-uploader (setup.py) ... \u001b[?25l\u001b[?25hdone\n",
            "  Created wheel for dash-uploader: filename=dash_uploader-0.3.0-cp36-none-any.whl size=63606 sha256=f6dfc474ca1e52e0c4e7dba60ed039e75edf8c4464f48c542e051d0718d8c8d6\n",
            "  Stored in directory: /root/.cache/pip/wheels/1c/54/dc/7f18d255b35890e5cb24acb7ce46a6f66fca16f19c7b35c2f6\n",
            "  Building wheel for dash (setup.py) ... \u001b[?25l\u001b[?25hdone\n",
            "  Created wheel for dash: filename=dash-1.14.0-cp36-none-any.whl size=80129 sha256=9097d7224305ad502774a093da82b039b1103fdacf9c7f9cfb9365189cf88af2\n",
            "  Stored in directory: /root/.cache/pip/wheels/1d/54/0b/e846f762d47e8abc9234419822d013dfb2ccf957b48e411dc6\n",
            "  Building wheel for flask-compress (setup.py) ... \u001b[?25l\u001b[?25hdone\n",
            "  Created wheel for flask-compress: filename=Flask_Compress-1.5.0-cp36-none-any.whl size=5273 sha256=c5f44f95fdf667d235b813fbc33924c59282fbc7cf1100daaccf2278db5b697f\n",
            "  Stored in directory: /root/.cache/pip/wheels/f7/e9/e4/5afc286be7c87461375e33152558415dfeb0c8f5af3b50e742\n",
            "  Building wheel for dash-renderer (setup.py) ... \u001b[?25l\u001b[?25hdone\n",
            "  Created wheel for dash-renderer: filename=dash_renderer-1.6.0-cp36-none-any.whl size=1182221 sha256=ca841c55dcbd1e0948f5f49a9afa26601fa886dc37fc79612b4565715352cefe\n",
            "  Stored in directory: /root/.cache/pip/wheels/2a/de/21/8774fe1ae2271c4747c55c5bcd3e914302a7a6e55a77d866f2\n",
            "  Building wheel for dash-core-components (setup.py) ... \u001b[?25l\u001b[?25hdone\n",
            "  Created wheel for dash-core-components: filename=dash_core_components-1.10.2-cp36-none-any.whl size=3457324 sha256=847c2771e4fc8525390e10b22b66256488f68a5a234f685c2bcc159a78a280b7\n",
            "  Stored in directory: /root/.cache/pip/wheels/2a/38/71/0c7e350a8280f6c94a2024a4d16ba905dd2a86ed2aa4a093e3\n",
            "  Building wheel for dash-html-components (setup.py) ... \u001b[?25l\u001b[?25hdone\n",
            "  Created wheel for dash-html-components: filename=dash_html_components-1.0.3-cp36-none-any.whl size=427303 sha256=ce762e66c0328c1271b27116b59e5c83d918272698b1e5e256e84ec8d8a81ecb\n",
            "  Stored in directory: /root/.cache/pip/wheels/22/c0/79/ef4c2b20a23dc8457ae75c3da5f63163db213d86e13e00fe26\n",
            "  Building wheel for dash-table (setup.py) ... \u001b[?25l\u001b[?25hdone\n",
            "  Created wheel for dash-table: filename=dash_table-4.9.0-cp36-none-any.whl size=1780769 sha256=a4b15cee6e4275830b8fd5c17c297d263e70e2377ed2cfe86febcc317b3f8bce\n",
            "  Stored in directory: /root/.cache/pip/wheels/f6/99/e4/a3af0a6f2d07ace02dd25984c08294d2749818c38f44d55338\n",
            "Successfully built dash-uploader dash flask-compress dash-renderer dash-core-components dash-html-components dash-table\n",
            "Installing collected packages: brotli, flask-compress, dash-renderer, dash-core-components, dash-html-components, dash-table, dash, dash-uploader\n",
            "Successfully installed brotli-1.0.7 dash-1.14.0 dash-core-components-1.10.2 dash-html-components-1.0.3 dash-renderer-1.6.0 dash-table-4.9.0 dash-uploader-0.3.0 flask-compress-1.5.0\n"
          ],
          "name": "stdout"
        }
      ]
    },
    {
      "cell_type": "code",
      "metadata": {
        "id": "5yqjhpzdlGD9",
        "colab_type": "code",
        "colab": {
          "base_uri": "https://localhost:8080/",
          "height": 423
        },
        "outputId": "51f00b57-a0ab-45dc-e74b-3de532fda0fe"
      },
      "source": [
        "!pip install plotly==3.10.0"
      ],
      "execution_count": 2,
      "outputs": [
        {
          "output_type": "stream",
          "text": [
            "Collecting plotly==3.10.0\n",
            "\u001b[?25l  Downloading https://files.pythonhosted.org/packages/ff/75/3982bac5076d0ce6d23103c03840fcaec90c533409f9d82c19f54512a38a/plotly-3.10.0-py2.py3-none-any.whl (41.5MB)\n",
            "\u001b[K     |████████████████████████████████| 41.5MB 98kB/s \n",
            "\u001b[?25hRequirement already satisfied: six in /usr/local/lib/python3.6/dist-packages (from plotly==3.10.0) (1.15.0)\n",
            "Requirement already satisfied: nbformat>=4.2 in /usr/local/lib/python3.6/dist-packages (from plotly==3.10.0) (5.0.7)\n",
            "Requirement already satisfied: retrying>=1.3.3 in /usr/local/lib/python3.6/dist-packages (from plotly==3.10.0) (1.3.3)\n",
            "Requirement already satisfied: decorator>=4.0.6 in /usr/local/lib/python3.6/dist-packages (from plotly==3.10.0) (4.4.2)\n",
            "Requirement already satisfied: pytz in /usr/local/lib/python3.6/dist-packages (from plotly==3.10.0) (2018.9)\n",
            "Requirement already satisfied: requests in /usr/local/lib/python3.6/dist-packages (from plotly==3.10.0) (2.23.0)\n",
            "Requirement already satisfied: jsonschema!=2.5.0,>=2.4 in /usr/local/lib/python3.6/dist-packages (from nbformat>=4.2->plotly==3.10.0) (2.6.0)\n",
            "Requirement already satisfied: ipython-genutils in /usr/local/lib/python3.6/dist-packages (from nbformat>=4.2->plotly==3.10.0) (0.2.0)\n",
            "Requirement already satisfied: traitlets>=4.1 in /usr/local/lib/python3.6/dist-packages (from nbformat>=4.2->plotly==3.10.0) (4.3.3)\n",
            "Requirement already satisfied: jupyter-core in /usr/local/lib/python3.6/dist-packages (from nbformat>=4.2->plotly==3.10.0) (4.6.3)\n",
            "Requirement already satisfied: chardet<4,>=3.0.2 in /usr/local/lib/python3.6/dist-packages (from requests->plotly==3.10.0) (3.0.4)\n",
            "Requirement already satisfied: urllib3!=1.25.0,!=1.25.1,<1.26,>=1.21.1 in /usr/local/lib/python3.6/dist-packages (from requests->plotly==3.10.0) (1.24.3)\n",
            "Requirement already satisfied: idna<3,>=2.5 in /usr/local/lib/python3.6/dist-packages (from requests->plotly==3.10.0) (2.10)\n",
            "Requirement already satisfied: certifi>=2017.4.17 in /usr/local/lib/python3.6/dist-packages (from requests->plotly==3.10.0) (2020.6.20)\n",
            "\u001b[31mERROR: cufflinks 0.17.3 has requirement plotly>=4.1.1, but you'll have plotly 3.10.0 which is incompatible.\u001b[0m\n",
            "Installing collected packages: plotly\n",
            "  Found existing installation: plotly 4.4.1\n",
            "    Uninstalling plotly-4.4.1:\n",
            "      Successfully uninstalled plotly-4.4.1\n",
            "Successfully installed plotly-3.10.0\n"
          ],
          "name": "stdout"
        }
      ]
    },
    {
      "cell_type": "code",
      "metadata": {
        "id": "XQszBGH7k09p",
        "colab_type": "code",
        "colab": {
          "base_uri": "https://localhost:8080/",
          "height": 1000
        },
        "outputId": "d1941dc6-140f-46d2-ccb0-a28f7c79f601"
      },
      "source": [
        "!pip install pyngrok\n",
        "!ngrok authtoken 1dY2tuDxOOzcvxAfX55wrwHUrUG_2CBmGrRAYcrPvEMsx7PbP\n",
        "!pip install jupyter-dash\n",
        "!pip install dash_uploader"
      ],
      "execution_count": 3,
      "outputs": [
        {
          "output_type": "stream",
          "text": [
            "Collecting pyngrok\n",
            "  Downloading https://files.pythonhosted.org/packages/94/bb/0d5bff58a5bd9b17f1c35821ffb127f10eca7a3fc844e0ad827026ac1d2c/pyngrok-4.1.8.tar.gz\n",
            "Requirement already satisfied: future in /usr/local/lib/python3.6/dist-packages (from pyngrok) (0.16.0)\n",
            "Requirement already satisfied: PyYAML in /usr/local/lib/python3.6/dist-packages (from pyngrok) (3.13)\n",
            "Building wheels for collected packages: pyngrok\n",
            "  Building wheel for pyngrok (setup.py) ... \u001b[?25l\u001b[?25hdone\n",
            "  Created wheel for pyngrok: filename=pyngrok-4.1.8-cp36-none-any.whl size=16337 sha256=e629bdfc67f184d5ab3920556834a06c5add5d714ea2b061ed7b5c17a6c5d0fd\n",
            "  Stored in directory: /root/.cache/pip/wheels/7d/25/b7/5e4a3aefe7dd2dd9cec445786d64fe70e885109636fea356c7\n",
            "Successfully built pyngrok\n",
            "Installing collected packages: pyngrok\n",
            "Successfully installed pyngrok-4.1.8\n",
            "Authtoken saved to configuration file: /root/.ngrok2/ngrok.yml\n",
            "Collecting jupyter-dash\n",
            "\u001b[?25l  Downloading https://files.pythonhosted.org/packages/b6/10/c08a9cbb23cc4ee6d01d321aded40cc9d95fa03d5b56a56bf1907b50cade/jupyter_dash-0.3.0-py3-none-any.whl (49kB)\n",
            "\u001b[K     |████████████████████████████████| 51kB 1.6MB/s \n",
            "\u001b[?25hRequirement already satisfied: retrying in /usr/local/lib/python3.6/dist-packages (from jupyter-dash) (1.3.3)\n",
            "Requirement already satisfied: ipython in /usr/local/lib/python3.6/dist-packages (from jupyter-dash) (5.5.0)\n",
            "Requirement already satisfied: dash in /usr/local/lib/python3.6/dist-packages (from jupyter-dash) (1.14.0)\n",
            "Requirement already satisfied: ipykernel in /usr/local/lib/python3.6/dist-packages (from jupyter-dash) (4.10.1)\n",
            "Requirement already satisfied: flask in /usr/local/lib/python3.6/dist-packages (from jupyter-dash) (1.1.2)\n",
            "Requirement already satisfied: requests in /usr/local/lib/python3.6/dist-packages (from jupyter-dash) (2.23.0)\n",
            "Collecting ansi2html\n",
            "  Downloading https://files.pythonhosted.org/packages/b7/f5/0d658908d70cb902609fbb39b9ce891b99e060fa06e98071d369056e346f/ansi2html-1.5.2.tar.gz\n",
            "Requirement already satisfied: six>=1.7.0 in /usr/local/lib/python3.6/dist-packages (from retrying->jupyter-dash) (1.15.0)\n",
            "Requirement already satisfied: prompt-toolkit<2.0.0,>=1.0.4 in /usr/local/lib/python3.6/dist-packages (from ipython->jupyter-dash) (1.0.18)\n",
            "Requirement already satisfied: traitlets>=4.2 in /usr/local/lib/python3.6/dist-packages (from ipython->jupyter-dash) (4.3.3)\n",
            "Requirement already satisfied: decorator in /usr/local/lib/python3.6/dist-packages (from ipython->jupyter-dash) (4.4.2)\n",
            "Requirement already satisfied: simplegeneric>0.8 in /usr/local/lib/python3.6/dist-packages (from ipython->jupyter-dash) (0.8.1)\n",
            "Requirement already satisfied: pexpect; sys_platform != \"win32\" in /usr/local/lib/python3.6/dist-packages (from ipython->jupyter-dash) (4.8.0)\n",
            "Requirement already satisfied: pygments in /usr/local/lib/python3.6/dist-packages (from ipython->jupyter-dash) (2.1.3)\n",
            "Requirement already satisfied: setuptools>=18.5 in /usr/local/lib/python3.6/dist-packages (from ipython->jupyter-dash) (49.1.0)\n",
            "Requirement already satisfied: pickleshare in /usr/local/lib/python3.6/dist-packages (from ipython->jupyter-dash) (0.7.5)\n",
            "Requirement already satisfied: future in /usr/local/lib/python3.6/dist-packages (from dash->jupyter-dash) (0.16.0)\n",
            "Requirement already satisfied: plotly in /usr/local/lib/python3.6/dist-packages (from dash->jupyter-dash) (3.10.0)\n",
            "Requirement already satisfied: dash-core-components==1.10.2 in /usr/local/lib/python3.6/dist-packages (from dash->jupyter-dash) (1.10.2)\n",
            "Requirement already satisfied: dash-renderer==1.6.0 in /usr/local/lib/python3.6/dist-packages (from dash->jupyter-dash) (1.6.0)\n",
            "Requirement already satisfied: dash-table==4.9.0 in /usr/local/lib/python3.6/dist-packages (from dash->jupyter-dash) (4.9.0)\n",
            "Requirement already satisfied: dash-html-components==1.0.3 in /usr/local/lib/python3.6/dist-packages (from dash->jupyter-dash) (1.0.3)\n",
            "Requirement already satisfied: flask-compress in /usr/local/lib/python3.6/dist-packages (from dash->jupyter-dash) (1.5.0)\n",
            "Requirement already satisfied: tornado>=4.0 in /usr/local/lib/python3.6/dist-packages (from ipykernel->jupyter-dash) (5.1.1)\n",
            "Requirement already satisfied: jupyter-client in /usr/local/lib/python3.6/dist-packages (from ipykernel->jupyter-dash) (5.3.5)\n",
            "Requirement already satisfied: Jinja2>=2.10.1 in /usr/local/lib/python3.6/dist-packages (from flask->jupyter-dash) (2.11.2)\n",
            "Requirement already satisfied: itsdangerous>=0.24 in /usr/local/lib/python3.6/dist-packages (from flask->jupyter-dash) (1.1.0)\n",
            "Requirement already satisfied: Werkzeug>=0.15 in /usr/local/lib/python3.6/dist-packages (from flask->jupyter-dash) (1.0.1)\n",
            "Requirement already satisfied: click>=5.1 in /usr/local/lib/python3.6/dist-packages (from flask->jupyter-dash) (7.1.2)\n",
            "Requirement already satisfied: chardet<4,>=3.0.2 in /usr/local/lib/python3.6/dist-packages (from requests->jupyter-dash) (3.0.4)\n",
            "Requirement already satisfied: idna<3,>=2.5 in /usr/local/lib/python3.6/dist-packages (from requests->jupyter-dash) (2.10)\n",
            "Requirement already satisfied: certifi>=2017.4.17 in /usr/local/lib/python3.6/dist-packages (from requests->jupyter-dash) (2020.6.20)\n",
            "Requirement already satisfied: urllib3!=1.25.0,!=1.25.1,<1.26,>=1.21.1 in /usr/local/lib/python3.6/dist-packages (from requests->jupyter-dash) (1.24.3)\n",
            "Requirement already satisfied: wcwidth in /usr/local/lib/python3.6/dist-packages (from prompt-toolkit<2.0.0,>=1.0.4->ipython->jupyter-dash) (0.2.5)\n",
            "Requirement already satisfied: ipython-genutils in /usr/local/lib/python3.6/dist-packages (from traitlets>=4.2->ipython->jupyter-dash) (0.2.0)\n",
            "Requirement already satisfied: ptyprocess>=0.5 in /usr/local/lib/python3.6/dist-packages (from pexpect; sys_platform != \"win32\"->ipython->jupyter-dash) (0.6.0)\n",
            "Requirement already satisfied: nbformat>=4.2 in /usr/local/lib/python3.6/dist-packages (from plotly->dash->jupyter-dash) (5.0.7)\n",
            "Requirement already satisfied: pytz in /usr/local/lib/python3.6/dist-packages (from plotly->dash->jupyter-dash) (2018.9)\n",
            "Requirement already satisfied: brotli in /usr/local/lib/python3.6/dist-packages (from flask-compress->dash->jupyter-dash) (1.0.7)\n",
            "Requirement already satisfied: pyzmq>=13 in /usr/local/lib/python3.6/dist-packages (from jupyter-client->ipykernel->jupyter-dash) (19.0.1)\n",
            "Requirement already satisfied: jupyter-core>=4.6.0 in /usr/local/lib/python3.6/dist-packages (from jupyter-client->ipykernel->jupyter-dash) (4.6.3)\n",
            "Requirement already satisfied: python-dateutil>=2.1 in /usr/local/lib/python3.6/dist-packages (from jupyter-client->ipykernel->jupyter-dash) (2.8.1)\n",
            "Requirement already satisfied: MarkupSafe>=0.23 in /usr/local/lib/python3.6/dist-packages (from Jinja2>=2.10.1->flask->jupyter-dash) (1.1.1)\n",
            "Requirement already satisfied: jsonschema!=2.5.0,>=2.4 in /usr/local/lib/python3.6/dist-packages (from nbformat>=4.2->plotly->dash->jupyter-dash) (2.6.0)\n",
            "Building wheels for collected packages: ansi2html\n",
            "  Building wheel for ansi2html (setup.py) ... \u001b[?25l\u001b[?25hdone\n",
            "  Created wheel for ansi2html: filename=ansi2html-1.5.2-cp36-none-any.whl size=13863 sha256=386fa35b198f90b796d9190fd9a883c5b8dc5c1857adb84a3d107b05c7deba3c\n",
            "  Stored in directory: /root/.cache/pip/wheels/f9/ea/e0/1ed3c3945ce073f930f3e5aa2b9bbadb03cd2efc8f8695cd61\n",
            "Successfully built ansi2html\n",
            "Installing collected packages: ansi2html, jupyter-dash\n",
            "Successfully installed ansi2html-1.5.2 jupyter-dash-0.3.0\n",
            "Requirement already satisfied: dash_uploader in /usr/local/lib/python3.6/dist-packages (0.3.0)\n",
            "Requirement already satisfied: dash>=1.1.0 in /usr/local/lib/python3.6/dist-packages (from dash_uploader) (1.14.0)\n",
            "Requirement already satisfied: dash-core-components==1.10.2 in /usr/local/lib/python3.6/dist-packages (from dash>=1.1.0->dash_uploader) (1.10.2)\n",
            "Requirement already satisfied: Flask>=1.0.2 in /usr/local/lib/python3.6/dist-packages (from dash>=1.1.0->dash_uploader) (1.1.2)\n",
            "Requirement already satisfied: future in /usr/local/lib/python3.6/dist-packages (from dash>=1.1.0->dash_uploader) (0.16.0)\n",
            "Requirement already satisfied: dash-html-components==1.0.3 in /usr/local/lib/python3.6/dist-packages (from dash>=1.1.0->dash_uploader) (1.0.3)\n",
            "Requirement already satisfied: dash-renderer==1.6.0 in /usr/local/lib/python3.6/dist-packages (from dash>=1.1.0->dash_uploader) (1.6.0)\n",
            "Requirement already satisfied: plotly in /usr/local/lib/python3.6/dist-packages (from dash>=1.1.0->dash_uploader) (3.10.0)\n",
            "Requirement already satisfied: flask-compress in /usr/local/lib/python3.6/dist-packages (from dash>=1.1.0->dash_uploader) (1.5.0)\n",
            "Requirement already satisfied: dash-table==4.9.0 in /usr/local/lib/python3.6/dist-packages (from dash>=1.1.0->dash_uploader) (4.9.0)\n",
            "Requirement already satisfied: Werkzeug>=0.15 in /usr/local/lib/python3.6/dist-packages (from Flask>=1.0.2->dash>=1.1.0->dash_uploader) (1.0.1)\n",
            "Requirement already satisfied: itsdangerous>=0.24 in /usr/local/lib/python3.6/dist-packages (from Flask>=1.0.2->dash>=1.1.0->dash_uploader) (1.1.0)\n",
            "Requirement already satisfied: Jinja2>=2.10.1 in /usr/local/lib/python3.6/dist-packages (from Flask>=1.0.2->dash>=1.1.0->dash_uploader) (2.11.2)\n",
            "Requirement already satisfied: click>=5.1 in /usr/local/lib/python3.6/dist-packages (from Flask>=1.0.2->dash>=1.1.0->dash_uploader) (7.1.2)\n",
            "Requirement already satisfied: decorator>=4.0.6 in /usr/local/lib/python3.6/dist-packages (from plotly->dash>=1.1.0->dash_uploader) (4.4.2)\n",
            "Requirement already satisfied: retrying>=1.3.3 in /usr/local/lib/python3.6/dist-packages (from plotly->dash>=1.1.0->dash_uploader) (1.3.3)\n",
            "Requirement already satisfied: requests in /usr/local/lib/python3.6/dist-packages (from plotly->dash>=1.1.0->dash_uploader) (2.23.0)\n",
            "Requirement already satisfied: nbformat>=4.2 in /usr/local/lib/python3.6/dist-packages (from plotly->dash>=1.1.0->dash_uploader) (5.0.7)\n",
            "Requirement already satisfied: pytz in /usr/local/lib/python3.6/dist-packages (from plotly->dash>=1.1.0->dash_uploader) (2018.9)\n",
            "Requirement already satisfied: six in /usr/local/lib/python3.6/dist-packages (from plotly->dash>=1.1.0->dash_uploader) (1.15.0)\n",
            "Requirement already satisfied: brotli in /usr/local/lib/python3.6/dist-packages (from flask-compress->dash>=1.1.0->dash_uploader) (1.0.7)\n",
            "Requirement already satisfied: MarkupSafe>=0.23 in /usr/local/lib/python3.6/dist-packages (from Jinja2>=2.10.1->Flask>=1.0.2->dash>=1.1.0->dash_uploader) (1.1.1)\n",
            "Requirement already satisfied: certifi>=2017.4.17 in /usr/local/lib/python3.6/dist-packages (from requests->plotly->dash>=1.1.0->dash_uploader) (2020.6.20)\n",
            "Requirement already satisfied: chardet<4,>=3.0.2 in /usr/local/lib/python3.6/dist-packages (from requests->plotly->dash>=1.1.0->dash_uploader) (3.0.4)\n",
            "Requirement already satisfied: urllib3!=1.25.0,!=1.25.1,<1.26,>=1.21.1 in /usr/local/lib/python3.6/dist-packages (from requests->plotly->dash>=1.1.0->dash_uploader) (1.24.3)\n",
            "Requirement already satisfied: idna<3,>=2.5 in /usr/local/lib/python3.6/dist-packages (from requests->plotly->dash>=1.1.0->dash_uploader) (2.10)\n",
            "Requirement already satisfied: traitlets>=4.1 in /usr/local/lib/python3.6/dist-packages (from nbformat>=4.2->plotly->dash>=1.1.0->dash_uploader) (4.3.3)\n",
            "Requirement already satisfied: ipython-genutils in /usr/local/lib/python3.6/dist-packages (from nbformat>=4.2->plotly->dash>=1.1.0->dash_uploader) (0.2.0)\n",
            "Requirement already satisfied: jsonschema!=2.5.0,>=2.4 in /usr/local/lib/python3.6/dist-packages (from nbformat>=4.2->plotly->dash>=1.1.0->dash_uploader) (2.6.0)\n",
            "Requirement already satisfied: jupyter-core in /usr/local/lib/python3.6/dist-packages (from nbformat>=4.2->plotly->dash>=1.1.0->dash_uploader) (4.6.3)\n"
          ],
          "name": "stdout"
        }
      ]
    },
    {
      "cell_type": "code",
      "metadata": {
        "id": "Ir53y_3LEF5V",
        "colab_type": "code",
        "colab": {
          "base_uri": "https://localhost:8080/",
          "height": 524
        },
        "outputId": "43862e24-d820-4161-c572-4018c0ccd717"
      },
      "source": [
        "!pip install dash"
      ],
      "execution_count": 4,
      "outputs": [
        {
          "output_type": "stream",
          "text": [
            "Requirement already satisfied: dash in /usr/local/lib/python3.6/dist-packages (1.14.0)\n",
            "Requirement already satisfied: dash-renderer==1.6.0 in /usr/local/lib/python3.6/dist-packages (from dash) (1.6.0)\n",
            "Requirement already satisfied: dash-table==4.9.0 in /usr/local/lib/python3.6/dist-packages (from dash) (4.9.0)\n",
            "Requirement already satisfied: dash-html-components==1.0.3 in /usr/local/lib/python3.6/dist-packages (from dash) (1.0.3)\n",
            "Requirement already satisfied: flask-compress in /usr/local/lib/python3.6/dist-packages (from dash) (1.5.0)\n",
            "Requirement already satisfied: Flask>=1.0.2 in /usr/local/lib/python3.6/dist-packages (from dash) (1.1.2)\n",
            "Requirement already satisfied: future in /usr/local/lib/python3.6/dist-packages (from dash) (0.16.0)\n",
            "Requirement already satisfied: plotly in /usr/local/lib/python3.6/dist-packages (from dash) (3.10.0)\n",
            "Requirement already satisfied: dash-core-components==1.10.2 in /usr/local/lib/python3.6/dist-packages (from dash) (1.10.2)\n",
            "Requirement already satisfied: brotli in /usr/local/lib/python3.6/dist-packages (from flask-compress->dash) (1.0.7)\n",
            "Requirement already satisfied: click>=5.1 in /usr/local/lib/python3.6/dist-packages (from Flask>=1.0.2->dash) (7.1.2)\n",
            "Requirement already satisfied: Werkzeug>=0.15 in /usr/local/lib/python3.6/dist-packages (from Flask>=1.0.2->dash) (1.0.1)\n",
            "Requirement already satisfied: itsdangerous>=0.24 in /usr/local/lib/python3.6/dist-packages (from Flask>=1.0.2->dash) (1.1.0)\n",
            "Requirement already satisfied: Jinja2>=2.10.1 in /usr/local/lib/python3.6/dist-packages (from Flask>=1.0.2->dash) (2.11.2)\n",
            "Requirement already satisfied: pytz in /usr/local/lib/python3.6/dist-packages (from plotly->dash) (2018.9)\n",
            "Requirement already satisfied: six in /usr/local/lib/python3.6/dist-packages (from plotly->dash) (1.15.0)\n",
            "Requirement already satisfied: requests in /usr/local/lib/python3.6/dist-packages (from plotly->dash) (2.23.0)\n",
            "Requirement already satisfied: retrying>=1.3.3 in /usr/local/lib/python3.6/dist-packages (from plotly->dash) (1.3.3)\n",
            "Requirement already satisfied: nbformat>=4.2 in /usr/local/lib/python3.6/dist-packages (from plotly->dash) (5.0.7)\n",
            "Requirement already satisfied: decorator>=4.0.6 in /usr/local/lib/python3.6/dist-packages (from plotly->dash) (4.4.2)\n",
            "Requirement already satisfied: MarkupSafe>=0.23 in /usr/local/lib/python3.6/dist-packages (from Jinja2>=2.10.1->Flask>=1.0.2->dash) (1.1.1)\n",
            "Requirement already satisfied: chardet<4,>=3.0.2 in /usr/local/lib/python3.6/dist-packages (from requests->plotly->dash) (3.0.4)\n",
            "Requirement already satisfied: urllib3!=1.25.0,!=1.25.1,<1.26,>=1.21.1 in /usr/local/lib/python3.6/dist-packages (from requests->plotly->dash) (1.24.3)\n",
            "Requirement already satisfied: idna<3,>=2.5 in /usr/local/lib/python3.6/dist-packages (from requests->plotly->dash) (2.10)\n",
            "Requirement already satisfied: certifi>=2017.4.17 in /usr/local/lib/python3.6/dist-packages (from requests->plotly->dash) (2020.6.20)\n",
            "Requirement already satisfied: traitlets>=4.1 in /usr/local/lib/python3.6/dist-packages (from nbformat>=4.2->plotly->dash) (4.3.3)\n",
            "Requirement already satisfied: jsonschema!=2.5.0,>=2.4 in /usr/local/lib/python3.6/dist-packages (from nbformat>=4.2->plotly->dash) (2.6.0)\n",
            "Requirement already satisfied: jupyter-core in /usr/local/lib/python3.6/dist-packages (from nbformat>=4.2->plotly->dash) (4.6.3)\n",
            "Requirement already satisfied: ipython-genutils in /usr/local/lib/python3.6/dist-packages (from nbformat>=4.2->plotly->dash) (0.2.0)\n"
          ],
          "name": "stdout"
        }
      ]
    },
    {
      "cell_type": "code",
      "metadata": {
        "id": "DsL1WNoBjL21",
        "colab_type": "code",
        "colab": {
          "base_uri": "https://localhost:8080/",
          "height": 793
        },
        "outputId": "5ad826ce-b545-4916-9514-813b9fb38eba"
      },
      "source": [
        "!pip install jupyter_dash"
      ],
      "execution_count": 5,
      "outputs": [
        {
          "output_type": "stream",
          "text": [
            "Requirement already satisfied: jupyter_dash in /usr/local/lib/python3.6/dist-packages (0.3.0)\n",
            "Requirement already satisfied: ansi2html in /usr/local/lib/python3.6/dist-packages (from jupyter_dash) (1.5.2)\n",
            "Requirement already satisfied: retrying in /usr/local/lib/python3.6/dist-packages (from jupyter_dash) (1.3.3)\n",
            "Requirement already satisfied: ipython in /usr/local/lib/python3.6/dist-packages (from jupyter_dash) (5.5.0)\n",
            "Requirement already satisfied: requests in /usr/local/lib/python3.6/dist-packages (from jupyter_dash) (2.23.0)\n",
            "Requirement already satisfied: flask in /usr/local/lib/python3.6/dist-packages (from jupyter_dash) (1.1.2)\n",
            "Requirement already satisfied: dash in /usr/local/lib/python3.6/dist-packages (from jupyter_dash) (1.14.0)\n",
            "Requirement already satisfied: ipykernel in /usr/local/lib/python3.6/dist-packages (from jupyter_dash) (4.10.1)\n",
            "Requirement already satisfied: six in /usr/local/lib/python3.6/dist-packages (from ansi2html->jupyter_dash) (1.15.0)\n",
            "Requirement already satisfied: pickleshare in /usr/local/lib/python3.6/dist-packages (from ipython->jupyter_dash) (0.7.5)\n",
            "Requirement already satisfied: simplegeneric>0.8 in /usr/local/lib/python3.6/dist-packages (from ipython->jupyter_dash) (0.8.1)\n",
            "Requirement already satisfied: traitlets>=4.2 in /usr/local/lib/python3.6/dist-packages (from ipython->jupyter_dash) (4.3.3)\n",
            "Requirement already satisfied: pexpect; sys_platform != \"win32\" in /usr/local/lib/python3.6/dist-packages (from ipython->jupyter_dash) (4.8.0)\n",
            "Requirement already satisfied: setuptools>=18.5 in /usr/local/lib/python3.6/dist-packages (from ipython->jupyter_dash) (49.1.0)\n",
            "Requirement already satisfied: decorator in /usr/local/lib/python3.6/dist-packages (from ipython->jupyter_dash) (4.4.2)\n",
            "Requirement already satisfied: prompt-toolkit<2.0.0,>=1.0.4 in /usr/local/lib/python3.6/dist-packages (from ipython->jupyter_dash) (1.0.18)\n",
            "Requirement already satisfied: pygments in /usr/local/lib/python3.6/dist-packages (from ipython->jupyter_dash) (2.1.3)\n",
            "Requirement already satisfied: idna<3,>=2.5 in /usr/local/lib/python3.6/dist-packages (from requests->jupyter_dash) (2.10)\n",
            "Requirement already satisfied: urllib3!=1.25.0,!=1.25.1,<1.26,>=1.21.1 in /usr/local/lib/python3.6/dist-packages (from requests->jupyter_dash) (1.24.3)\n",
            "Requirement already satisfied: certifi>=2017.4.17 in /usr/local/lib/python3.6/dist-packages (from requests->jupyter_dash) (2020.6.20)\n",
            "Requirement already satisfied: chardet<4,>=3.0.2 in /usr/local/lib/python3.6/dist-packages (from requests->jupyter_dash) (3.0.4)\n",
            "Requirement already satisfied: click>=5.1 in /usr/local/lib/python3.6/dist-packages (from flask->jupyter_dash) (7.1.2)\n",
            "Requirement already satisfied: Werkzeug>=0.15 in /usr/local/lib/python3.6/dist-packages (from flask->jupyter_dash) (1.0.1)\n",
            "Requirement already satisfied: itsdangerous>=0.24 in /usr/local/lib/python3.6/dist-packages (from flask->jupyter_dash) (1.1.0)\n",
            "Requirement already satisfied: Jinja2>=2.10.1 in /usr/local/lib/python3.6/dist-packages (from flask->jupyter_dash) (2.11.2)\n",
            "Requirement already satisfied: plotly in /usr/local/lib/python3.6/dist-packages (from dash->jupyter_dash) (3.10.0)\n",
            "Requirement already satisfied: future in /usr/local/lib/python3.6/dist-packages (from dash->jupyter_dash) (0.16.0)\n",
            "Requirement already satisfied: dash-core-components==1.10.2 in /usr/local/lib/python3.6/dist-packages (from dash->jupyter_dash) (1.10.2)\n",
            "Requirement already satisfied: dash-html-components==1.0.3 in /usr/local/lib/python3.6/dist-packages (from dash->jupyter_dash) (1.0.3)\n",
            "Requirement already satisfied: dash-table==4.9.0 in /usr/local/lib/python3.6/dist-packages (from dash->jupyter_dash) (4.9.0)\n",
            "Requirement already satisfied: flask-compress in /usr/local/lib/python3.6/dist-packages (from dash->jupyter_dash) (1.5.0)\n",
            "Requirement already satisfied: dash-renderer==1.6.0 in /usr/local/lib/python3.6/dist-packages (from dash->jupyter_dash) (1.6.0)\n",
            "Requirement already satisfied: tornado>=4.0 in /usr/local/lib/python3.6/dist-packages (from ipykernel->jupyter_dash) (5.1.1)\n",
            "Requirement already satisfied: jupyter-client in /usr/local/lib/python3.6/dist-packages (from ipykernel->jupyter_dash) (5.3.5)\n",
            "Requirement already satisfied: ipython-genutils in /usr/local/lib/python3.6/dist-packages (from traitlets>=4.2->ipython->jupyter_dash) (0.2.0)\n",
            "Requirement already satisfied: ptyprocess>=0.5 in /usr/local/lib/python3.6/dist-packages (from pexpect; sys_platform != \"win32\"->ipython->jupyter_dash) (0.6.0)\n",
            "Requirement already satisfied: wcwidth in /usr/local/lib/python3.6/dist-packages (from prompt-toolkit<2.0.0,>=1.0.4->ipython->jupyter_dash) (0.2.5)\n",
            "Requirement already satisfied: MarkupSafe>=0.23 in /usr/local/lib/python3.6/dist-packages (from Jinja2>=2.10.1->flask->jupyter_dash) (1.1.1)\n",
            "Requirement already satisfied: pytz in /usr/local/lib/python3.6/dist-packages (from plotly->dash->jupyter_dash) (2018.9)\n",
            "Requirement already satisfied: nbformat>=4.2 in /usr/local/lib/python3.6/dist-packages (from plotly->dash->jupyter_dash) (5.0.7)\n",
            "Requirement already satisfied: brotli in /usr/local/lib/python3.6/dist-packages (from flask-compress->dash->jupyter_dash) (1.0.7)\n",
            "Requirement already satisfied: python-dateutil>=2.1 in /usr/local/lib/python3.6/dist-packages (from jupyter-client->ipykernel->jupyter_dash) (2.8.1)\n",
            "Requirement already satisfied: pyzmq>=13 in /usr/local/lib/python3.6/dist-packages (from jupyter-client->ipykernel->jupyter_dash) (19.0.1)\n",
            "Requirement already satisfied: jupyter-core>=4.6.0 in /usr/local/lib/python3.6/dist-packages (from jupyter-client->ipykernel->jupyter_dash) (4.6.3)\n",
            "Requirement already satisfied: jsonschema!=2.5.0,>=2.4 in /usr/local/lib/python3.6/dist-packages (from nbformat>=4.2->plotly->dash->jupyter_dash) (2.6.0)\n"
          ],
          "name": "stdout"
        }
      ]
    },
    {
      "cell_type": "code",
      "metadata": {
        "id": "vDCPHyTeDOgk",
        "colab_type": "code",
        "colab": {
          "base_uri": "https://localhost:8080/",
          "height": 151
        },
        "outputId": "a6a7cc22-1170-400b-ba9e-ed0ebfa556f5"
      },
      "source": [
        "!git clone https://github.com/xhlulu/dash-player.git\n",
        "%cd dash-player"
      ],
      "execution_count": 6,
      "outputs": [
        {
          "output_type": "stream",
          "text": [
            "Cloning into 'dash-player'...\n",
            "remote: Enumerating objects: 26, done.\u001b[K\n",
            "remote: Counting objects: 100% (26/26), done.\u001b[K\n",
            "remote: Compressing objects: 100% (26/26), done.\u001b[K\n",
            "remote: Total 207 (delta 8), reused 9 (delta 0), pack-reused 181\u001b[K\n",
            "Receiving objects: 100% (207/207), 28.61 MiB | 9.34 MiB/s, done.\n",
            "Resolving deltas: 100% (62/62), done.\n",
            "/content/dash-player\n"
          ],
          "name": "stdout"
        }
      ]
    },
    {
      "cell_type": "code",
      "metadata": {
        "id": "97xoUnSKKd3b",
        "colab_type": "code",
        "colab": {
          "base_uri": "https://localhost:8080/",
          "height": 101
        },
        "outputId": "6be113e6-fba6-43ac-ff51-cd1555e78992"
      },
      "source": [
        "!npm  i -g npm install"
      ],
      "execution_count": 7,
      "outputs": [
        {
          "output_type": "stream",
          "text": [
            "\u001b[K\u001b[?25h/tools/node/bin/npm -> /tools/node/lib/node_modules/npm/bin/npm-cli.js\n",
            "/tools/node/bin/npx -> /tools/node/lib/node_modules/npm/bin/npx-cli.js\n",
            "\u001b[K\u001b[?25h+ install@0.13.0\n",
            "+ npm@6.14.7\n",
            "added 325 packages from 162 contributors, removed 423 packages and updated 60 packages in 13.247s\n"
          ],
          "name": "stdout"
        }
      ]
    },
    {
      "cell_type": "code",
      "metadata": {
        "id": "ihn3tdAxjQ96",
        "colab_type": "code",
        "colab": {}
      },
      "source": [
        "from textwrap import dedent\n",
        "\n",
        "import dash_player\n",
        "import dash\n",
        "import dash_html_components as html\n",
        "import dash_core_components as dcc\n",
        "from dash.dependencies import Input, Output, State\n",
        "\n",
        "from jupyter_dash import JupyterDash\n",
        "\n",
        "from pathlib import Path\n",
        "import uuid\n",
        "\n",
        "import dash_uploader as du\n",
        "import dash\n",
        "import dash_html_components as html\n",
        "from dash.dependencies import Input, Output, State\n",
        "\n",
        "import dash\n",
        "import datetime\n",
        "from dash.dependencies import Input, Output, State\n",
        "import dash_core_components as dcc\n",
        "import dash_html_components as html\n",
        "import plotly.plotly as py\n",
        "from plotly import graph_objs as go\n",
        "\n",
        "from plotly.graph_objs import *\n",
        "from flask import Flask\n",
        "import pandas as pd\n",
        "from collections import deque"
      ],
      "execution_count": 8,
      "outputs": []
    },
    {
      "cell_type": "code",
      "metadata": {
        "id": "wKosPtwijeq7",
        "colab_type": "code",
        "colab": {
          "base_uri": "https://localhost:8080/",
          "height": 50
        },
        "outputId": "7d6bf5b0-ba95-4fbf-b108-e8b3d8f6d5f5"
      },
      "source": [
        "from jupyter_dash import JupyterDash\n",
        "\n",
        "app = JupyterDash()\n",
        "\n",
        "server = app.server\n",
        "\n",
        "app.scripts.config.serve_locally = True\n",
        "\n",
        "\n",
        "\n",
        "app.layout = html.Div()\n",
        "app.run_server(mode='external', port=8060)"
      ],
      "execution_count": 9,
      "outputs": [
        {
          "output_type": "stream",
          "text": [
            "Dash app running on:\n"
          ],
          "name": "stdout"
        },
        {
          "output_type": "display_data",
          "data": {
            "application/javascript": [
              "(async (port, path, text, element) => {\n",
              "    if (!google.colab.kernel.accessAllowed) {\n",
              "      return;\n",
              "    }\n",
              "    element.appendChild(document.createTextNode(''));\n",
              "    const url = await google.colab.kernel.proxyPort(port);\n",
              "    const anchor = document.createElement('a');\n",
              "    anchor.href = url + path;\n",
              "    anchor.target = '_blank';\n",
              "    anchor.setAttribute('data-href', url + path);\n",
              "    anchor.textContent = text;\n",
              "    element.appendChild(anchor);\n",
              "  })(8060, \"/\", \"http://127.0.0.1:8060/\", window.element)"
            ],
            "text/plain": [
              "<IPython.core.display.Javascript object>"
            ]
          },
          "metadata": {
            "tags": []
          }
        }
      ]
    },
    {
      "cell_type": "code",
      "metadata": {
        "id": "kF3d2s_WjeMZ",
        "colab_type": "code",
        "colab": {}
      },
      "source": [
        "#app._terminate_server_for_port(\"localhost\", 8060)\n",
        "#app._terminate_server_for_port(\"localhost\", 8061)"
      ],
      "execution_count": 10,
      "outputs": []
    },
    {
      "cell_type": "code",
      "metadata": {
        "id": "oMi8UgkPG87y",
        "colab_type": "code",
        "colab": {
          "base_uri": "https://localhost:8080/",
          "height": 50
        },
        "outputId": "5ee520a5-06d1-4e2f-b4ec-4fc9e5c437d8"
      },
      "source": [
        "from textwrap import dedent\n",
        "from pathlib import Path\n",
        "import uuid\n",
        "import dash_uploader as du\n",
        "import dash\n",
        "import dash_html_components as html\n",
        "import dash_core_components as dcc\n",
        "from dash.dependencies import Input, Output, State\n",
        "\n",
        "from jupyter_dash import JupyterDash\n",
        "\n",
        "UPLOAD_FOLDER_ROOT = r\"C:\\tmp\\Uploads\"\n",
        "du.configure_upload(app, UPLOAD_FOLDER_ROOT)\n",
        "\n",
        "\n",
        "app = JupyterDash()\n",
        "\n",
        "\n",
        "server = app.server\n",
        "\n",
        "app.scripts.config.serve_locally = True\n",
        "\n",
        "\n",
        "def get_upload_component(id):\n",
        "    return du.Upload(\n",
        "        id=id,\n",
        "        max_file_size=1800,  # 1800 Mb\n",
        "        filetypes=['png','mp4', 'zip'],\n",
        "        upload_id=uuid.uuid1(),  # Unique session id\n",
        "    )\n",
        "\n",
        "\n",
        "def get_app_layout():\n",
        "\n",
        "    return html.Div(\n",
        "        [\n",
        "            html.H1('Demo'),\n",
        "            html.Div(\n",
        "                style={\n",
        "                    'width': '40%',\n",
        "                    'float': 'left',\n",
        "                    'margin': '0% 5% 1% 5%'\n",
        "                },\n",
        "                children=[\n",
        "                    dash_player.DashPlayer(\n",
        "                        id='video-player',\n",
        "                        url='/content/a.mp4',\n",
        "                        controls=True,\n",
        "                        width='100%'\n",
        "                    ),\n",
        "                    html.Div(\n",
        "                        id='div-current-time',\n",
        "                        style={'margin': '10px 0px'}\n",
        "                    ),\n",
        "\n",
        "                    html.Div(\n",
        "                        id='div-method-output',\n",
        "                        style={'margin': '10px 0px'}\n",
        "                    ),\n",
        "\n",
        "                ]\n",
        "            ),\n",
        "\n",
        "            html.Div(\n",
        "                [\n",
        "                    get_upload_component(id='dash-uploader'),\n",
        "                    html.Div(id='callback-output'),\n",
        "                ],\n",
        "                style={  # wrapper div style\n",
        "                    \n",
        "                    'width': '600px',\n",
        "                    'display': 'inline-block',\n",
        "                    'float': 'right',\n",
        "                    'margin': '0% 5% 1% 5%'\n",
        "                }),\n",
        "        ],\n",
        "        style={\n",
        "            'textAlign': 'center',\n",
        "        },\n",
        "       \n",
        "\n",
        "    )\n",
        "\n",
        "\n",
        "# Instance Methods\n",
        "\n",
        "app.layout = get_app_layout\n",
        "\n",
        "\n",
        "@du.callback(\n",
        "    output=Output('callback-output', 'children'),\n",
        "    id='dash-uploader',\n",
        ")\n",
        "def get_a_list(filenames):\n",
        "    return html.Ul([html.Li(filenames)])\n",
        "\n",
        "\n",
        "app.run_server(mode='external', port=8064)\n"
      ],
      "execution_count": 11,
      "outputs": [
        {
          "output_type": "stream",
          "text": [
            "Dash app running on:\n"
          ],
          "name": "stdout"
        },
        {
          "output_type": "display_data",
          "data": {
            "application/javascript": [
              "(async (port, path, text, element) => {\n",
              "    if (!google.colab.kernel.accessAllowed) {\n",
              "      return;\n",
              "    }\n",
              "    element.appendChild(document.createTextNode(''));\n",
              "    const url = await google.colab.kernel.proxyPort(port);\n",
              "    const anchor = document.createElement('a');\n",
              "    anchor.href = url + path;\n",
              "    anchor.target = '_blank';\n",
              "    anchor.setAttribute('data-href', url + path);\n",
              "    anchor.textContent = text;\n",
              "    element.appendChild(anchor);\n",
              "  })(8064, \"/\", \"http://127.0.0.1:8064/\", window.element)"
            ],
            "text/plain": [
              "<IPython.core.display.Javascript object>"
            ]
          },
          "metadata": {
            "tags": []
          }
        }
      ]
    },
    {
      "cell_type": "code",
      "metadata": {
        "id": "sjGfmVSh6Jek",
        "colab_type": "code",
        "colab": {}
      },
      "source": [
        "#app._terminate_server_for_port(\"localhost\", 8064)"
      ],
      "execution_count": 12,
      "outputs": []
    },
    {
      "cell_type": "code",
      "metadata": {
        "id": "_mTtx3FQ6ScK",
        "colab_type": "code",
        "colab": {
          "base_uri": "https://localhost:8080/",
          "height": 50
        },
        "outputId": "efe4a80e-f35b-41df-ae17-926262cc3720"
      },
      "source": [
        "from textwrap import dedent\n",
        "from pathlib import Path\n",
        "import uuid\n",
        "import dash_uploader as du\n",
        "import dash\n",
        "import dash_html_components as html\n",
        "import dash_core_components as dcc\n",
        "from dash.dependencies import Input, Output, State\n",
        "\n",
        "from jupyter_dash import JupyterDash\n",
        "external_stylesheets = ['https://codepen.io/chriddyp/pen/bWLwgP.css']\n",
        "\n",
        "app = JupyterDash()\n",
        "\n",
        "\n",
        "server = app.server\n",
        "\n",
        "app.scripts.config.serve_locally = True\n",
        "\n",
        "UPLOAD_FOLDER_ROOT = r\"/content/\"\n",
        "du.configure_upload(app, UPLOAD_FOLDER_ROOT)\n",
        "\n",
        "def get_upload_component(id):\n",
        "    return du.Upload(\n",
        "        id=id,\n",
        "        max_file_size=1800,  # 1800 Mb\n",
        "        filetypes=['png','mp4', 'zip'],\n",
        "        upload_id=uuid.uuid1(),  # Unique session id\n",
        "    )\n",
        "\n",
        "\n",
        "def get_app_layout():\n",
        "\n",
        "    return html.Div(\n",
        "        [\n",
        "            html.H1('Demo'),\n",
        "            html.Div(\n",
        "                [\n",
        "                    get_upload_component(id='dash-uploader'),\n",
        "                    html.Div(id='callback-output'),\n",
        "                ],\n",
        "                style={  # wrapper div style\n",
        "                    'textAlign': 'center',\n",
        "                    'width': '600px',\n",
        "                    'padding': '10px',\n",
        "                    'display': 'inline-block'\n",
        "                }),\n",
        "         \n",
        "\n",
        "            html.Div(\n",
        "                style={\n",
        "                    'width': '40%',\n",
        "                    'float': 'left',\n",
        "                    'margin': '0% 5% 1% 5%'\n",
        "                },\n",
        "                children=[\n",
        "                    dash_player.DashPlayer(\n",
        "                        id='video-player',\n",
        "                        url='/content/a.mp4',\n",
        "                        controls=True,\n",
        "                        width='100%'\n",
        "                    ),\n",
        "                    html.Div(\n",
        "                        id='div-current-time',\n",
        "                        style={'margin': '10px 0px'}\n",
        "                    ),\n",
        "\n",
        "                    html.Div(\n",
        "                        id='div-method-output',\n",
        "                        style={'margin': '10px 0px'}\n",
        "                    ),\n",
        "\n",
        "                ]\n",
        "            ),\n",
        "\n",
        "\n",
        "\n",
        "        ],\n",
        "        style={\n",
        "            'textAlign': 'center',\n",
        "        },\n",
        "    )\n",
        "\n",
        "\n",
        "# get_app_layout is a function\n",
        "# This way we can use unique session id's as upload_id's\n",
        "app.layout = get_app_layout\n",
        "\n",
        "\n",
        "@du.callback(\n",
        "    output=Output('callback-output', 'children'),\n",
        "    id='dash-uploader',\n",
        ")\n",
        "def get_a_list(filenames):\n",
        "    return html.Ul([html.Li(filenames)])\n",
        "\n",
        "app.run_server(mode='external', port=8065)\n",
        "\n",
        "\n",
        "\n"
      ],
      "execution_count": 16,
      "outputs": [
        {
          "output_type": "stream",
          "text": [
            "Dash app running on:\n"
          ],
          "name": "stdout"
        },
        {
          "output_type": "display_data",
          "data": {
            "application/javascript": [
              "(async (port, path, text, element) => {\n",
              "    if (!google.colab.kernel.accessAllowed) {\n",
              "      return;\n",
              "    }\n",
              "    element.appendChild(document.createTextNode(''));\n",
              "    const url = await google.colab.kernel.proxyPort(port);\n",
              "    const anchor = document.createElement('a');\n",
              "    anchor.href = url + path;\n",
              "    anchor.target = '_blank';\n",
              "    anchor.setAttribute('data-href', url + path);\n",
              "    anchor.textContent = text;\n",
              "    element.appendChild(anchor);\n",
              "  })(8065, \"/\", \"http://127.0.0.1:8065/\", window.element)"
            ],
            "text/plain": [
              "<IPython.core.display.Javascript object>"
            ]
          },
          "metadata": {
            "tags": []
          }
        }
      ]
    }
  ]
}